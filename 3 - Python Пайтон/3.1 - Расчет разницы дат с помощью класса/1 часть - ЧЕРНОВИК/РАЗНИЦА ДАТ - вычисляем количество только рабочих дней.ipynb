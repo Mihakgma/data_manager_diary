{
 "cells": [
  {
   "cell_type": "code",
   "execution_count": 29,
   "metadata": {},
   "outputs": [],
   "source": [
    "#import datetime\n",
    "from datetime import datetime, date, timedelta\n",
    "from os import getcwd, chdir"
   ]
  },
  {
   "cell_type": "code",
   "execution_count": null,
   "metadata": {},
   "outputs": [],
   "source": [
    "#'ДД.ММ.ГГГГ' - формат дат"
   ]
  },
  {
   "cell_type": "code",
   "execution_count": 30,
   "metadata": {},
   "outputs": [
    {
     "name": "stdout",
     "output_type": "stream",
     "text": [
      "МОДУЛИ:\n",
      "<<class 'check_dates.DateChecker'>> - успешно подгружен!\n"
     ]
    }
   ],
   "source": [
    "# подгружаем собственные модули\n",
    "home_dir = getcwd()\n",
    "chdir(r'D:\\ДИССЕРТАЦИЯ\\ХНИЗ\\2023\\Скрипты\\Python\\my_libs')\n",
    "#print(getcwd())\n",
    "from check_dates import DateChecker\n",
    "chdir(home_dir)\n",
    "#print(getcwd())\n",
    "print('МОДУЛИ:')\n",
    "print(f'<{DateChecker}> - успешно подгружен!')"
   ]
  },
  {
   "cell_type": "code",
   "execution_count": 32,
   "metadata": {},
   "outputs": [
    {
     "name": "stdout",
     "output_type": "stream",
     "text": [
      "{'date_ok': True, 'date_num_valid': True, 'month_num_valid': True, 'year_num_valid': True, 'full_date_str': '01.06.2023', 'day_num': 1, 'month_str': 'июнь', 'month_num': 6, 'year_num': 2023, 'weekday_str': 'четверг', 'weekday_num': 4}\n"
     ]
    }
   ],
   "source": [
    "date_test = DateChecker('01.06.2023')\n",
    "date_tested = date_test.check_date()\n",
    "print(date_tested)"
   ]
  },
  {
   "cell_type": "code",
   "execution_count": 35,
   "metadata": {},
   "outputs": [
    {
     "name": "stdout",
     "output_type": "stream",
     "text": [
      "7\n"
     ]
    }
   ],
   "source": [
    "date_first = DateChecker('01.06.2023')\n",
    "difference_results = date_first.get_dates_difference('08.06.2023')\n",
    "difference_days = difference_results['days']\n",
    "print(difference_days)"
   ]
  },
  {
   "cell_type": "code",
   "execution_count": 38,
   "metadata": {},
   "outputs": [
    {
     "name": "stdout",
     "output_type": "stream",
     "text": [
      "Для даты: <01.06.2023>\n",
      "Порядковый номер дня недели: <4>\n",
      "\n",
      "Для даты: <02.06.2023>\n",
      "Порядковый номер дня недели: <5>\n",
      "\n",
      "Для даты: <03.06.2023>\n",
      "Порядковый номер дня недели: <6>\n",
      "\n",
      "Для даты: <04.06.2023>\n",
      "Порядковый номер дня недели: <7>\n",
      "\n",
      "Для даты: <05.06.2023>\n",
      "Порядковый номер дня недели: <1>\n",
      "\n",
      "Для даты: <06.06.2023>\n",
      "Порядковый номер дня недели: <2>\n",
      "\n",
      "Для даты: <07.06.2023>\n",
      "Порядковый номер дня недели: <3>\n",
      "\n",
      "РАЗНИЦА ДАТ СОСТАВИЛА: <7> ДНЕЙ (ВСЕГО)\n",
      "РАЗНИЦА ДАТ СОСТАВИЛА: <5> ДНЕЙ (БЕЗ УЧЕТА СУББОТ И ВОСКРЕСЕНИЙ)\n"
     ]
    }
   ],
   "source": [
    "start_date = date(2023, 6, 1) \n",
    "end_date = date(2023, 6, 8)\n",
    "\n",
    "delta = end_date - start_date\n",
    "days_num_total = 0\n",
    "work_days_num = 0\n",
    "\n",
    "for i in range(delta.days):\n",
    "    days_num_total += 1\n",
    "    day = start_date + timedelta(days=i)\n",
    "    weekday_number = day.weekday() + 1\n",
    "    if weekday_number != 6 and weekday_number != 7:\n",
    "        work_days_num += 1 \n",
    "    day_str = day.strftime(\"%d.%m.%Y\")\n",
    "    print(f'Для даты: <{day_str}>')\n",
    "    print(f'Порядковый номер дня недели: <{weekday_number}>\\n')\n",
    "print(f'РАЗНИЦА ДАТ СОСТАВИЛА: <{days_num_total}> ДНЕЙ (ВСЕГО)')\n",
    "print(f'РАЗНИЦА ДАТ СОСТАВИЛА: <{work_days_num}> ДНЕЙ (БЕЗ УЧЕТА СУББОТ И ВОСКРЕСЕНИЙ)')"
   ]
  },
  {
   "cell_type": "code",
   "execution_count": null,
   "metadata": {},
   "outputs": [],
   "source": []
  },
  {
   "cell_type": "code",
   "execution_count": null,
   "metadata": {},
   "outputs": [],
   "source": []
  },
  {
   "cell_type": "code",
   "execution_count": null,
   "metadata": {},
   "outputs": [],
   "source": []
  },
  {
   "cell_type": "code",
   "execution_count": null,
   "metadata": {},
   "outputs": [],
   "source": []
  },
  {
   "cell_type": "code",
   "execution_count": null,
   "metadata": {},
   "outputs": [],
   "source": []
  },
  {
   "cell_type": "code",
   "execution_count": null,
   "metadata": {},
   "outputs": [],
   "source": []
  },
  {
   "cell_type": "markdown",
   "metadata": {},
   "source": [
    "ЧЕРНОВИКИ!!!"
   ]
  },
  {
   "cell_type": "code",
   "execution_count": 45,
   "metadata": {},
   "outputs": [],
   "source": [
    "#15 + 14.6"
   ]
  },
  {
   "cell_type": "code",
   "execution_count": 46,
   "metadata": {},
   "outputs": [],
   "source": [
    "#(296 * 5) / 150"
   ]
  },
  {
   "cell_type": "code",
   "execution_count": 44,
   "metadata": {},
   "outputs": [],
   "source": [
    "# необходимо к порядковому номеру дня недели прибавить единицу, т.к.\n",
    "# нумерация дней начинается с 0!!!\n",
    "#datetime(2023,6,8).weekday() + 1"
   ]
  },
  {
   "cell_type": "code",
   "execution_count": null,
   "metadata": {},
   "outputs": [],
   "source": []
  },
  {
   "cell_type": "code",
   "execution_count": null,
   "metadata": {},
   "outputs": [],
   "source": []
  }
 ],
 "metadata": {
  "kernelspec": {
   "display_name": "Python 3",
   "language": "python",
   "name": "python3"
  },
  "language_info": {
   "codemirror_mode": {
    "name": "ipython",
    "version": 3
   },
   "file_extension": ".py",
   "mimetype": "text/x-python",
   "name": "python",
   "nbconvert_exporter": "python",
   "pygments_lexer": "ipython3",
   "version": "3.8.3"
  }
 },
 "nbformat": 4,
 "nbformat_minor": 4
}
